{
 "cells": [
  {
   "cell_type": "markdown",
   "id": "4dd8e2a6",
   "metadata": {},
   "source": [
    "# Demand Forecasting Code with individual steps"
   ]
  },
  {
   "cell_type": "code",
   "execution_count": 1,
   "id": "049263ca",
   "metadata": {},
   "outputs": [],
   "source": [
    "# Import Libraries\n",
    "\n",
    "import pandas as pd\n",
    "import matplotlib.pyplot as plt\n",
    "from sklearn.model_selection import train_test_split\n",
    "from sklearn.linear_model import LinearRegression\n",
    "from sklearn.metrics import mean_absolute_error"
   ]
  },
  {
   "cell_type": "code",
   "execution_count": 27,
   "id": "4850dd5b",
   "metadata": {},
   "outputs": [
    {
     "name": "stdout",
     "output_type": "stream",
     "text": [
      "        date  sales\n",
      "0 2021-01-01    100\n",
      "1 2021-01-02    150\n",
      "2 2021-01-03    200\n",
      "3 2021-01-04    120\n",
      "4 2021-01-05    180\n",
      "5 2021-01-06    220\n"
     ]
    }
   ],
   "source": [
    "# Load Data\n",
    "\n",
    "data = {\n",
    "    'date': ['2021-01-01', '2021-01-02', '2021-01-03', '2021-01-04', '2021-01-05', '2021-01-06'],\n",
    "    'sales': [100, 150, 200, 120, 180, 220]\n",
    "}\n",
    "\n",
    "data = pd.DataFrame(data)\n",
    "data['date'] = pd.to_datetime(data['date'])  # Convert 'date' column to datetime format\n",
    "\n",
    "print(data)\n"
   ]
  },
  {
   "cell_type": "code",
   "execution_count": 28,
   "id": "f8e7bbe3",
   "metadata": {},
   "outputs": [],
   "source": [
    "data.to_csv('sales_data.csv',index=True)"
   ]
  },
  {
   "cell_type": "code",
   "execution_count": 7,
   "id": "3a29b4f9",
   "metadata": {},
   "outputs": [
    {
     "name": "stdout",
     "output_type": "stream",
     "text": [
      "        date  sales\n",
      "0 2021-01-01    100\n",
      "1 2021-01-02    150\n",
      "2 2021-01-03    200\n",
      "3 2021-01-04    120\n",
      "4 2021-01-05    180\n",
      "<class 'pandas.core.frame.DataFrame'>\n",
      "RangeIndex: 6 entries, 0 to 5\n",
      "Data columns (total 2 columns):\n",
      " #   Column  Non-Null Count  Dtype         \n",
      "---  ------  --------------  -----         \n",
      " 0   date    6 non-null      datetime64[ns]\n",
      " 1   sales   6 non-null      int64         \n",
      "dtypes: datetime64[ns](1), int64(1)\n",
      "memory usage: 224.0 bytes\n",
      "None\n"
     ]
    }
   ],
   "source": [
    "# Explore the data\n",
    "print(data.head())\n",
    "print(data.info())"
   ]
  },
  {
   "cell_type": "code",
   "execution_count": 8,
   "id": "5ea0c66b",
   "metadata": {},
   "outputs": [],
   "source": [
    "#Data Preprocessing\n",
    "\n",
    "data['date'] = pd.to_datetime(data['date'])\n",
    "data.set_index('date', inplace=True)"
   ]
  },
  {
   "cell_type": "code",
   "execution_count": 9,
   "id": "bfc1634d",
   "metadata": {},
   "outputs": [
    {
     "data": {
      "image/png": "[encoded data removed]",
      "text/plain": [
       "<Figure size 432x288 with 1 Axes>"
      ]
     },
     "metadata": {
      "needs_background": "light"
     },
     "output_type": "display_data"
    }
   ],
   "source": [
    "# Visualize Data\n",
    "plt.plot(data.index, data['sales'])\n",
    "plt.title('Historical Sales Data')\n",
    "plt.xlabel('Date')\n",
    "plt.ylabel('Sales')\n",
    "plt.show()"
   ]
  },
  {
   "cell_type": "code",
   "execution_count": 10,
   "id": "889f85ec",
   "metadata": {},
   "outputs": [],
   "source": [
    "# Feature Engineering\n",
    "data['year'] = data.index.year\n",
    "data['month'] = data.index.month\n",
    "data['day'] = data.index.day"
   ]
  },
  {
   "cell_type": "code",
   "execution_count": 11,
   "id": "91990fe8",
   "metadata": {},
   "outputs": [],
   "source": [
    "#Train-Test Split\n",
    "\n",
    "X = data[['year', 'month', 'day']]  # Features\n",
    "y = data['sales']                   # Target variable\n",
    "\n",
    "X_train, X_test, y_train, y_test = train_test_split(X, y, test_size=0.2, random_state=42)"
   ]
  },
  {
   "cell_type": "code",
   "execution_count": 12,
   "id": "6c55cdd3",
   "metadata": {},
   "outputs": [
    {
     "data": {
      "text/plain": [
       "LinearRegression()"
      ]
     },
     "execution_count": 12,
     "metadata": {},
     "output_type": "execute_result"
    }
   ],
   "source": [
    "# rain the Model\n",
    "\n",
    "model = LinearRegression()\n",
    "model.fit(X_train, y_train)"
   ]
  },
  {
   "cell_type": "code",
   "execution_count": 13,
   "id": "886fe81e",
   "metadata": {},
   "outputs": [],
   "source": [
    "# Make Predictions\n",
    "y_pred = model.predict(X_test)"
   ]
  },
  {
   "cell_type": "code",
   "execution_count": 14,
   "id": "2d99d154",
   "metadata": {},
   "outputs": [
    {
     "name": "stdout",
     "output_type": "stream",
     "text": [
      "Mean Absolute Error: 19.0\n"
     ]
    }
   ],
   "source": [
    "# Evaluate the Model\n",
    "\n",
    "mae = mean_absolute_error(y_test, y_pred)\n",
    "print('Mean Absolute Error:', mae)"
   ]
  },
  {
   "cell_type": "code",
   "execution_count": 15,
   "id": "2b3b29b8",
   "metadata": {},
   "outputs": [],
   "source": [
    "# Make Future Demand Predictions\n",
    "future_dates = pd.date_range(start='2023-06-03', end='2023-12-31', freq='D')  # Adjust the date range as needed\n",
    "future_data = pd.DataFrame(index=future_dates, columns=['year', 'month', 'day'])\n",
    "\n",
    "future_data['year'] = future_data.index.year\n",
    "future_data['month'] = future_data.index.month\n",
    "future_data['day'] = future_data.index.day\n",
    "\n",
    "future_predictions = model.predict(future_data)"
   ]
  },
  {
   "cell_type": "code",
   "execution_count": 16,
   "id": "8c7db4d0",
   "metadata": {},
   "outputs": [
    {
     "data": {
      "text/plain": [
       "array([162., 174., 186., 198., 210., 222., 234., 246., 258., 270., 282.,\n",
       "       294., 306., 318., 330., 342., 354., 366., 378., 390., 402., 414.,\n",
       "       426., 438., 450., 462., 474., 486., 138., 150., 162., 174., 186.,\n",
       "       198., 210., 222., 234., 246., 258., 270., 282., 294., 306., 318.,\n",
       "       330., 342., 354., 366., 378., 390., 402., 414., 426., 438., 450.,\n",
       "       462., 474., 486., 498., 138., 150., 162., 174., 186., 198., 210.,\n",
       "       222., 234., 246., 258., 270., 282., 294., 306., 318., 330., 342.,\n",
       "       354., 366., 378., 390., 402., 414., 426., 438., 450., 462., 474.,\n",
       "       486., 498., 138., 150., 162., 174., 186., 198., 210., 222., 234.,\n",
       "       246., 258., 270., 282., 294., 306., 318., 330., 342., 354., 366.,\n",
       "       378., 390., 402., 414., 426., 438., 450., 462., 474., 486., 138.,\n",
       "       150., 162., 174., 186., 198., 210., 222., 234., 246., 258., 270.,\n",
       "       282., 294., 306., 318., 330., 342., 354., 366., 378., 390., 402.,\n",
       "       414., 426., 438., 450., 462., 474., 486., 498., 138., 150., 162.,\n",
       "       174., 186., 198., 210., 222., 234., 246., 258., 270., 282., 294.,\n",
       "       306., 318., 330., 342., 354., 366., 378., 390., 402., 414., 426.,\n",
       "       438., 450., 462., 474., 486., 138., 150., 162., 174., 186., 198.,\n",
       "       210., 222., 234., 246., 258., 270., 282., 294., 306., 318., 330.,\n",
       "       342., 354., 366., 378., 390., 402., 414., 426., 438., 450., 462.,\n",
       "       474., 486., 498.])"
      ]
     },
     "execution_count": 16,
     "metadata": {},
     "output_type": "execute_result"
    }
   ],
   "source": [
    "future_predictions"
   ]
  },
  {
   "cell_type": "markdown",
   "id": "86b98dd9",
   "metadata": {},
   "source": [
    "# Automation Pipeline using Sklearn-Pipeline"
   ]
  },
  {
   "cell_type": "code",
   "execution_count": 53,
   "id": "4876e553",
   "metadata": {},
   "outputs": [
    {
     "data": {
      "image/png": "[encoded data removed]",
      "text/plain": [
       "<Figure size 432x288 with 1 Axes>"
      ]
     },
     "metadata": {
      "needs_background": "light"
     },
     "output_type": "display_data"
    },
    {
     "data": {
      "text/html": [
       "<div>\n",
       "<style scoped>\n",
       "    .dataframe tbody tr th:only-of-type {\n",
       "        vertical-align: middle;\n",
       "    }\n",
       "\n",
       "    .dataframe tbody tr th {\n",
       "        vertical-align: top;\n",
       "    }\n",
       "\n",
       "    .dataframe thead th {\n",
       "        text-align: right;\n",
       "    }\n",
       "</style>\n",
       "<table border=\"1\" class=\"dataframe\">\n",
       "  <thead>\n",
       "    <tr style=\"text-align: right;\">\n",
       "      <th></th>\n",
       "      <th>Unnamed: 0</th>\n",
       "      <th>sales</th>\n",
       "    </tr>\n",
       "    <tr>\n",
       "      <th>date</th>\n",
       "      <th></th>\n",
       "      <th></th>\n",
       "    </tr>\n",
       "  </thead>\n",
       "  <tbody>\n",
       "    <tr>\n",
       "      <th>2021-01-01</th>\n",
       "      <td>0</td>\n",
       "      <td>100</td>\n",
       "    </tr>\n",
       "    <tr>\n",
       "      <th>2021-01-02</th>\n",
       "      <td>1</td>\n",
       "      <td>150</td>\n",
       "    </tr>\n",
       "    <tr>\n",
       "      <th>2021-01-03</th>\n",
       "      <td>2</td>\n",
       "      <td>200</td>\n",
       "    </tr>\n",
       "    <tr>\n",
       "      <th>2021-01-04</th>\n",
       "      <td>3</td>\n",
       "      <td>120</td>\n",
       "    </tr>\n",
       "    <tr>\n",
       "      <th>2021-01-05</th>\n",
       "      <td>4</td>\n",
       "      <td>180</td>\n",
       "    </tr>\n",
       "    <tr>\n",
       "      <th>2021-01-06</th>\n",
       "      <td>5</td>\n",
       "      <td>220</td>\n",
       "    </tr>\n",
       "  </tbody>\n",
       "</table>\n",
       "</div>"
      ],
      "text/plain": [
       "            Unnamed: 0  sales\n",
       "date                         \n",
       "2021-01-01           0    100\n",
       "2021-01-02           1    150\n",
       "2021-01-03           2    200\n",
       "2021-01-04           3    120\n",
       "2021-01-05           4    180\n",
       "2021-01-06           5    220"
      ]
     },
     "execution_count": 53,
     "metadata": {},
     "output_type": "execute_result"
    }
   ],
   "source": [
    "import pandas as pd\n",
    "import matplotlib.pyplot as plt\n",
    "from sklearn.model_selection import train_test_split\n",
    "from sklearn.linear_model import LinearRegression\n",
    "from sklearn.metrics import mean_absolute_error\n",
    "from sklearn.compose import TransformedTargetRegressor\n",
    "from sklearn.pipeline import Pipeline\n",
    "from sklearn.preprocessing import FunctionTransformer\n",
    "\n",
    "\n",
    "# Step 1: Load and Explore Data\n",
    "def load_data(file_path):\n",
    "    data = pd.read_csv(file_path)\n",
    "    data['date'] = pd.to_datetime(data['date'])\n",
    "    return data\n",
    "\n",
    "\n",
    "# Step 2: Data Preprocessing\n",
    "def preprocess_data(data):\n",
    "    data.set_index('date', inplace=True)\n",
    "    return data\n",
    "\n",
    "\n",
    "# Step 3: Visualize Data\n",
    "def visualize_data(data):\n",
    "    plt.plot(data.index, data['sales'])\n",
    "    plt.title('Historical Sales Data')\n",
    "    plt.xlabel('Date')\n",
    "    plt.ylabel('Sales')\n",
    "    plt.show()\n",
    "    return data\n",
    "\n",
    "\n",
    "# Step 4: Feature Engineering\n",
    "def feature_engineering(data):\n",
    "    data['year'] = data.index.year\n",
    "    data['month'] = data.index.month\n",
    "    data['day'] = data.index.day\n",
    "    return data\n",
    "\n",
    "\n",
    "# Step 5: Train-Test Split\n",
    "def perform_train_test_split(data):\n",
    "    X = data[['year', 'month', 'day']]\n",
    "    y = data['sales']\n",
    "    X_train, X_test, y_train, y_test = train_test_split(X, y, test_size=0.2, random_state=42)\n",
    "    return X_train, X_test, y_train, y_test\n",
    "\n",
    "\n",
    "# Step 6: Train the Model\n",
    "def train_model(X_train, y_train):\n",
    "    model = TransformedTargetRegressor(regressor=LinearRegression())\n",
    "    model.fit(X_train, y_train)\n",
    "    return model\n",
    "\n",
    "\n",
    "# Step 7: Make Predictions\n",
    "def make_predictions(model, X_test):\n",
    "    y_pred = model.predict(X_test)\n",
    "    return y_pred\n",
    "\n",
    "\n",
    "# Step 8: Evaluate the Model\n",
    "def evaluate_model(y_test, y_pred):\n",
    "    mae = mean_absolute_error(y_test, y_pred)\n",
    "    print('Mean Absolute Error:', mae)\n",
    "\n",
    "\n",
    "# Step 9: Make Future Demand Predictions\n",
    "def make_future_predictions(model):\n",
    "    future_dates = pd.date_range(start='2023-06-03', end='2023-12-31', freq='D')\n",
    "    future_data = pd.DataFrame(index=future_dates, columns=['year', 'month', 'day'])\n",
    "    future_data['year'] = future_data.index.year\n",
    "    future_data['month'] = future_data.index.month\n",
    "    future_data['day'] = future_data.index.day\n",
    "    future_predictions = model.predict(future_data)\n",
    "    return future_predictions\n",
    "\n",
    "\n",
    "# Create the pipeline\n",
    "pipeline = Pipeline([\n",
    "    ('load_data', FunctionTransformer(load_data)),\n",
    "    ('preprocess_data', FunctionTransformer(preprocess_data)),\n",
    "    ('visualize_data', FunctionTransformer(visualize_data)),\n",
    "    ('feature_engineering', FunctionTransformer(feature_engineering)),\n",
    "    ('train_test_split', FunctionTransformer(perform_train_test_split)),\n",
    "    ('model', FunctionTransformer(train_model)),\n",
    "    ('make_predictions', FunctionTransformer(make_predictions)),\n",
    "    ('evaluate_model', FunctionTransformer(evaluate_model)),\n",
    "    ('make_future_predictions', FunctionTransformer(make_future_predictions))\n",
    "])\n",
    "\n",
    "# Load the data\n",
    "data_file = 'sales_data.csv'\n",
    "data = pipeline.named_steps['load_data'].transform(data_file)\n",
    "\n",
    "# Preprocess the data\n",
    "preprocessed_data = pipeline.named_steps['preprocess_data'].transform(data)\n",
    "\n",
    "# Visualize the data\n",
    "pipeline.named_steps['visualize_data'].transform(preprocessed_data)"
   ]
  },
  {
   "cell_type": "markdown",
   "id": "1d6f6491",
   "metadata": {},
   "source": [
    "# Automation Code with manual process"
   ]
  },
  {
   "cell_type": "code",
   "execution_count": 63,
   "id": "20458364",
   "metadata": {},
   "outputs": [
    {
     "data": {
      "image/png": "[encoded data removed]",
      "text/plain": [
       "<Figure size 432x288 with 1 Axes>"
      ]
     },
     "metadata": {
      "needs_background": "light"
     },
     "output_type": "display_data"
    },
    {
     "name": "stdout",
     "output_type": "stream",
     "text": [
      "Mean Absolute Error: 19.0\n",
      "Future Predictions: [162. 174. 186. 198. 210. 222. 234. 246. 258. 270. 282. 294. 306. 318.\n",
      " 330. 342. 354. 366. 378. 390. 402. 414. 426. 438. 450. 462. 474. 486.\n",
      " 138. 150. 162. 174. 186. 198. 210. 222. 234. 246. 258. 270. 282. 294.\n",
      " 306. 318. 330. 342. 354. 366. 378. 390. 402. 414. 426. 438. 450. 462.\n",
      " 474. 486. 498. 138. 150. 162. 174. 186. 198. 210. 222. 234. 246. 258.\n",
      " 270. 282. 294. 306. 318. 330. 342. 354. 366. 378. 390. 402. 414. 426.\n",
      " 438. 450. 462. 474. 486. 498. 138. 150. 162. 174. 186. 198. 210. 222.\n",
      " 234. 246. 258. 270. 282. 294. 306. 318. 330. 342. 354. 366. 378. 390.\n",
      " 402. 414. 426. 438. 450. 462. 474. 486. 138. 150. 162. 174. 186. 198.\n",
      " 210. 222. 234. 246. 258. 270. 282. 294. 306. 318. 330. 342. 354. 366.\n",
      " 378. 390. 402. 414. 426. 438. 450. 462. 474. 486. 498. 138. 150. 162.\n",
      " 174. 186. 198. 210. 222. 234. 246. 258. 270. 282. 294. 306. 318. 330.\n",
      " 342. 354. 366. 378. 390. 402. 414. 426. 438. 450. 462. 474. 486. 138.\n",
      " 150. 162. 174. 186. 198. 210. 222. 234. 246. 258. 270. 282. 294. 306.\n",
      " 318. 330. 342. 354. 366. 378. 390. 402. 414. 426. 438. 450. 462. 474.\n",
      " 486. 498.]\n"
     ]
    }
   ],
   "source": [
    "import pandas as pd\n",
    "import matplotlib.pyplot as plt\n",
    "from sklearn.model_selection import train_test_split\n",
    "from sklearn.linear_model import LinearRegression\n",
    "from sklearn.metrics import mean_absolute_error\n",
    "from sklearn.compose import TransformedTargetRegressor\n",
    "from sklearn.preprocessing import FunctionTransformer\n",
    "\n",
    "\n",
    "# Step 1: Load and Explore Data\n",
    "def load_data(file_path):\n",
    "    data = pd.read_csv(file_path)\n",
    "    data['date'] = pd.to_datetime(data['date'])\n",
    "    return data\n",
    "\n",
    "\n",
    "# Step 2: Data Preprocessing\n",
    "def preprocess_data(data):\n",
    "    data.set_index('date', inplace=True)\n",
    "    return data\n",
    "\n",
    "\n",
    "# Step 3: Visualize Data\n",
    "def visualize_data(data):\n",
    "    plt.plot(data.index, data['sales'])\n",
    "    plt.title('Historical Sales Data')\n",
    "    plt.xlabel('Date')\n",
    "    plt.ylabel('Sales')\n",
    "    plt.show()\n",
    "    return data\n",
    "\n",
    "\n",
    "# Step 4: Feature Engineering\n",
    "def feature_engineering(data):\n",
    "    data['year'] = data.index.year\n",
    "    data['month'] = data.index.month\n",
    "    data['day'] = data.index.day\n",
    "    return data\n",
    "\n",
    "\n",
    "# Step 5: Train-Test Split\n",
    "def perform_train_test_split(data):\n",
    "    X = data[['year', 'month', 'day']]\n",
    "    y = data['sales']\n",
    "    X_train, X_test, y_train, y_test = train_test_split(X, y, test_size=0.2, random_state=42)\n",
    "    return X_train, X_test, y_train, y_test\n",
    "\n",
    "\n",
    "# Step 6: Train the Model\n",
    "def train_model(X_train, y_train):\n",
    "    model = TransformedTargetRegressor(regressor=LinearRegression())\n",
    "    model.fit(X_train, y_train)\n",
    "    return model\n",
    "\n",
    "\n",
    "# Step 7: Make Predictions\n",
    "def make_predictions(model, X_test):\n",
    "    y_pred = model.predict(X_test)\n",
    "    return y_pred\n",
    "\n",
    "\n",
    "# Step 8: Evaluate the Model\n",
    "def evaluate_model(y_test, y_pred):\n",
    "    mae = mean_absolute_error(y_test, y_pred)\n",
    "    print('Mean Absolute Error:', mae)\n",
    "\n",
    "\n",
    "# Step 9: Make Future Demand Predictions\n",
    "def make_future_predictions(model):\n",
    "    future_dates = pd.date_range(start='2023-06-03', end='2023-12-31', freq='D')\n",
    "    future_data = pd.DataFrame(index=future_dates, columns=['year', 'month', 'day'])\n",
    "    future_data['year'] = future_data.index.year\n",
    "    future_data['month'] = future_data.index.month\n",
    "    future_data['day'] = future_data.index.day\n",
    "    future_predictions = model.predict(future_data)\n",
    "    return future_predictions\n",
    "\n",
    "\n",
    "# Load and preprocess the data\n",
    "data_file = 'sales_data.csv'\n",
    "data = load_data(data_file)\n",
    "preprocessed_data = preprocess_data(data)\n",
    "\n",
    "# Visualize the data\n",
    "visualize_data(preprocessed_data)\n",
    "\n",
    "# Perform feature engineering\n",
    "data_with_features = feature_engineering(preprocessed_data)\n",
    "\n",
    "# Split the data into train and test sets\n",
    "X_train, X_test, y_train, y_test = perform_train_test_split(data_with_features)\n",
    "\n",
    "# Train the model\n",
    "model = train_model(X_train, y_train)\n",
    "\n",
    "# Make predictions on the test set\n",
    "y_pred = make_predictions(model, X_test)\n",
    "\n",
    "# Evaluate the model\n",
    "evaluate_model(y_test, y_pred)\n",
    "\n",
    "# Make future demand predictions\n",
    "future_predictions = make_future_predictions(model)\n",
    "print('Future Predictions:', future_predictions)"
   ]
  },
  {
   "cell_type": "code",
   "execution_count": null,
   "id": "f9b51678",
   "metadata": {},
   "outputs": [],
   "source": []
  }
 ],
 "metadata": {
  "kernelspec": {
   "display_name": "Python 3 (ipykernel)",
   "language": "python",
   "name": "python3"
  },
  "language_info": {
   "codemirror_mode": {
    "name": "ipython",
    "version": 3
   },
   "file_extension": ".py",
   "mimetype": "text/x-python",
   "name": "python",
   "nbconvert_exporter": "python",
   "pygments_lexer": "ipython3",
   "version": "3.9.12"
  }
 },
 "nbformat": 4,
 "nbformat_minor": 5
}
